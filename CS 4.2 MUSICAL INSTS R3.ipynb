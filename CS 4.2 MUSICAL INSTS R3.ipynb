{
 "cells": [
  {
   "cell_type": "markdown",
   "metadata": {},
   "source": [
    "# Recommendation System Using Amazon Dataset for Musical Instruments and Surprise Package"
   ]
  },
  {
   "cell_type": "code",
   "execution_count": 5,
   "metadata": {},
   "outputs": [
    {
     "name": "stdout",
     "output_type": "stream",
     "text": [
      "Requirement already satisfied: pip in c:\\users\\dell\\anaconda3\\lib\\site-packages (21.3.1)\n"
     ]
    }
   ],
   "source": [
    "#!pip install --upgrade pip --user"
   ]
  },
  {
   "cell_type": "code",
   "execution_count": 1,
   "metadata": {},
   "outputs": [
    {
     "name": "stdout",
     "output_type": "stream",
     "text": [
      "Collecting scikit-surprise\n",
      "  Using cached scikit-surprise-1.1.1.tar.gz (11.8 MB)\n",
      "  Preparing metadata (setup.py): started\n",
      "  Preparing metadata (setup.py): finished with status 'done'\n",
      "Requirement already satisfied: joblib>=0.11 in c:\\users\\dell\\anaconda3\\lib\\site-packages (from scikit-surprise) (0.17.0)\n",
      "Requirement already satisfied: numpy>=1.11.2 in c:\\users\\dell\\anaconda3\\lib\\site-packages (from scikit-surprise) (1.19.2)\n",
      "Requirement already satisfied: scipy>=1.0.0 in c:\\users\\dell\\anaconda3\\lib\\site-packages (from scikit-surprise) (1.5.2)\n",
      "Requirement already satisfied: six>=1.10.0 in c:\\users\\dell\\anaconda3\\lib\\site-packages (from scikit-surprise) (1.15.0)\n",
      "Building wheels for collected packages: scikit-surprise\n",
      "  Building wheel for scikit-surprise (setup.py): started\n",
      "  Building wheel for scikit-surprise (setup.py): finished with status 'done'\n",
      "  Created wheel for scikit-surprise: filename=scikit_surprise-1.1.1-cp38-cp38-win_amd64.whl size=707940 sha256=cfc1afeb4c758b7baa96504c0898f22f64e955871b4662013f064527ab5691dc\n",
      "  Stored in directory: c:\\users\\dell\\appdata\\local\\pip\\cache\\wheels\\20\\91\\57\\2965d4cff1b8ac7ed1b6fa25741882af3974b54a31759e10b6\n",
      "Successfully built scikit-surprise\n",
      "Installing collected packages: scikit-surprise\n",
      "Successfully installed scikit-surprise-1.1.1\n"
     ]
    }
   ],
   "source": [
    "! pip install scikit-surprise"
   ]
  },
  {
   "cell_type": "code",
   "execution_count": 9,
   "metadata": {},
   "outputs": [],
   "source": [
    "# Install the Surprise package which is used to make the predictions\n",
    "#!pip install surprise==0.1 --user"
   ]
  },
  {
   "cell_type": "code",
   "execution_count": 2,
   "metadata": {},
   "outputs": [],
   "source": [
    "#Import all the packages that will be used in the exercise\n",
    "import pandas as pd\n",
    "import seaborn as sns\n",
    "import matplotlib.pyplot as plt\n",
    "import csv\n",
    "from urllib.request import urlopen\n",
    "import numpy as np\n",
    "from surprise import SVD, NormalPredictor, BaselineOnly, KNNWithMeans, NMF, Dataset, KNNBasic\n",
    "from surprise import Reader\n",
    "from surprise.model_selection import cross_validate, KFold"
   ]
  },
  {
   "cell_type": "code",
   "execution_count": 3,
   "metadata": {},
   "outputs": [
    {
     "data": {
      "text/html": [
       "<div>\n",
       "<style scoped>\n",
       "    .dataframe tbody tr th:only-of-type {\n",
       "        vertical-align: middle;\n",
       "    }\n",
       "\n",
       "    .dataframe tbody tr th {\n",
       "        vertical-align: top;\n",
       "    }\n",
       "\n",
       "    .dataframe thead th {\n",
       "        text-align: right;\n",
       "    }\n",
       "</style>\n",
       "<table border=\"1\" class=\"dataframe\">\n",
       "  <thead>\n",
       "    <tr style=\"text-align: right;\">\n",
       "      <th></th>\n",
       "      <th>0</th>\n",
       "      <th>1</th>\n",
       "      <th>2</th>\n",
       "      <th>3</th>\n",
       "    </tr>\n",
       "  </thead>\n",
       "  <tbody>\n",
       "    <tr>\n",
       "      <th>0</th>\n",
       "      <td>A1YS9MDZP93857</td>\n",
       "      <td>0006428320</td>\n",
       "      <td>3.0</td>\n",
       "      <td>1394496000</td>\n",
       "    </tr>\n",
       "    <tr>\n",
       "      <th>1</th>\n",
       "      <td>A3TS466QBAWB9D</td>\n",
       "      <td>0014072149</td>\n",
       "      <td>5.0</td>\n",
       "      <td>1370476800</td>\n",
       "    </tr>\n",
       "    <tr>\n",
       "      <th>2</th>\n",
       "      <td>A3BUDYITWUSIS7</td>\n",
       "      <td>0041291905</td>\n",
       "      <td>5.0</td>\n",
       "      <td>1381708800</td>\n",
       "    </tr>\n",
       "    <tr>\n",
       "      <th>3</th>\n",
       "      <td>A19K10Z0D2NTZK</td>\n",
       "      <td>0041913574</td>\n",
       "      <td>5.0</td>\n",
       "      <td>1285200000</td>\n",
       "    </tr>\n",
       "    <tr>\n",
       "      <th>4</th>\n",
       "      <td>A14X336IB4JD89</td>\n",
       "      <td>0201891859</td>\n",
       "      <td>1.0</td>\n",
       "      <td>1350432000</td>\n",
       "    </tr>\n",
       "  </tbody>\n",
       "</table>\n",
       "</div>"
      ],
      "text/plain": [
       "                0           1    2           3\n",
       "0  A1YS9MDZP93857  0006428320  3.0  1394496000\n",
       "1  A3TS466QBAWB9D  0014072149  5.0  1370476800\n",
       "2  A3BUDYITWUSIS7  0041291905  5.0  1381708800\n",
       "3  A19K10Z0D2NTZK  0041913574  5.0  1285200000\n",
       "4  A14X336IB4JD89  0201891859  1.0  1350432000"
      ]
     },
     "execution_count": 3,
     "metadata": {},
     "output_type": "execute_result"
    }
   ],
   "source": [
    "#Read in the data as a dataframe from a csv file via a web link below.\n",
    "#The data is an Amazon dataset for musical instrument purchases hosted by Stanford university\n",
    "df=pd.read_csv('http://snap.stanford.edu/data/amazon/productGraph/categoryFiles/ratings_Musical_Instruments.csv',header = None)\n",
    "\n",
    "df.head()"
   ]
  },
  {
   "cell_type": "code",
   "execution_count": 4,
   "metadata": {},
   "outputs": [],
   "source": [
    "#Assign names to each column of the dataframe\n",
    "df.columns = ['REVIEWER','PRODUCT','RATING', 'REVIEW TIMESTAMP']"
   ]
  },
  {
   "cell_type": "code",
   "execution_count": 5,
   "metadata": {},
   "outputs": [
    {
     "data": {
      "text/html": [
       "<div>\n",
       "<style scoped>\n",
       "    .dataframe tbody tr th:only-of-type {\n",
       "        vertical-align: middle;\n",
       "    }\n",
       "\n",
       "    .dataframe tbody tr th {\n",
       "        vertical-align: top;\n",
       "    }\n",
       "\n",
       "    .dataframe thead th {\n",
       "        text-align: right;\n",
       "    }\n",
       "</style>\n",
       "<table border=\"1\" class=\"dataframe\">\n",
       "  <thead>\n",
       "    <tr style=\"text-align: right;\">\n",
       "      <th></th>\n",
       "      <th>REVIEWER</th>\n",
       "      <th>PRODUCT</th>\n",
       "      <th>RATING</th>\n",
       "      <th>REVIEW TIMESTAMP</th>\n",
       "    </tr>\n",
       "  </thead>\n",
       "  <tbody>\n",
       "    <tr>\n",
       "      <th>0</th>\n",
       "      <td>A1YS9MDZP93857</td>\n",
       "      <td>0006428320</td>\n",
       "      <td>3.0</td>\n",
       "      <td>1394496000</td>\n",
       "    </tr>\n",
       "    <tr>\n",
       "      <th>1</th>\n",
       "      <td>A3TS466QBAWB9D</td>\n",
       "      <td>0014072149</td>\n",
       "      <td>5.0</td>\n",
       "      <td>1370476800</td>\n",
       "    </tr>\n",
       "    <tr>\n",
       "      <th>2</th>\n",
       "      <td>A3BUDYITWUSIS7</td>\n",
       "      <td>0041291905</td>\n",
       "      <td>5.0</td>\n",
       "      <td>1381708800</td>\n",
       "    </tr>\n",
       "    <tr>\n",
       "      <th>3</th>\n",
       "      <td>A19K10Z0D2NTZK</td>\n",
       "      <td>0041913574</td>\n",
       "      <td>5.0</td>\n",
       "      <td>1285200000</td>\n",
       "    </tr>\n",
       "    <tr>\n",
       "      <th>4</th>\n",
       "      <td>A14X336IB4JD89</td>\n",
       "      <td>0201891859</td>\n",
       "      <td>1.0</td>\n",
       "      <td>1350432000</td>\n",
       "    </tr>\n",
       "  </tbody>\n",
       "</table>\n",
       "</div>"
      ],
      "text/plain": [
       "         REVIEWER     PRODUCT  RATING  REVIEW TIMESTAMP\n",
       "0  A1YS9MDZP93857  0006428320     3.0        1394496000\n",
       "1  A3TS466QBAWB9D  0014072149     5.0        1370476800\n",
       "2  A3BUDYITWUSIS7  0041291905     5.0        1381708800\n",
       "3  A19K10Z0D2NTZK  0041913574     5.0        1285200000\n",
       "4  A14X336IB4JD89  0201891859     1.0        1350432000"
      ]
     },
     "execution_count": 5,
     "metadata": {},
     "output_type": "execute_result"
    }
   ],
   "source": [
    "#Check the dataframe output\n",
    "df.head()"
   ]
  },
  {
   "cell_type": "code",
   "execution_count": 6,
   "metadata": {},
   "outputs": [
    {
     "data": {
      "text/plain": [
       "REVIEWER             object\n",
       "PRODUCT              object\n",
       "RATING              float64\n",
       "REVIEW TIMESTAMP      int64\n",
       "dtype: object"
      ]
     },
     "execution_count": 6,
     "metadata": {},
     "output_type": "execute_result"
    }
   ],
   "source": [
    "#Check the datatypes for each dataframe column\n",
    "df.dtypes"
   ]
  },
  {
   "cell_type": "code",
   "execution_count": 7,
   "metadata": {},
   "outputs": [
    {
     "data": {
      "text/html": [
       "<div>\n",
       "<style scoped>\n",
       "    .dataframe tbody tr th:only-of-type {\n",
       "        vertical-align: middle;\n",
       "    }\n",
       "\n",
       "    .dataframe tbody tr th {\n",
       "        vertical-align: top;\n",
       "    }\n",
       "\n",
       "    .dataframe thead th {\n",
       "        text-align: right;\n",
       "    }\n",
       "</style>\n",
       "<table border=\"1\" class=\"dataframe\">\n",
       "  <thead>\n",
       "    <tr style=\"text-align: right;\">\n",
       "      <th></th>\n",
       "      <th>RATING</th>\n",
       "      <th>REVIEW TIMESTAMP</th>\n",
       "    </tr>\n",
       "  </thead>\n",
       "  <tbody>\n",
       "    <tr>\n",
       "      <th>count</th>\n",
       "      <td>500176.000000</td>\n",
       "      <td>5.001760e+05</td>\n",
       "    </tr>\n",
       "    <tr>\n",
       "      <th>mean</th>\n",
       "      <td>4.244350</td>\n",
       "      <td>1.344561e+09</td>\n",
       "    </tr>\n",
       "    <tr>\n",
       "      <th>std</th>\n",
       "      <td>1.203374</td>\n",
       "      <td>6.487853e+07</td>\n",
       "    </tr>\n",
       "    <tr>\n",
       "      <th>min</th>\n",
       "      <td>1.000000</td>\n",
       "      <td>8.934624e+08</td>\n",
       "    </tr>\n",
       "    <tr>\n",
       "      <th>25%</th>\n",
       "      <td>4.000000</td>\n",
       "      <td>1.325030e+09</td>\n",
       "    </tr>\n",
       "    <tr>\n",
       "      <th>50%</th>\n",
       "      <td>5.000000</td>\n",
       "      <td>1.364342e+09</td>\n",
       "    </tr>\n",
       "    <tr>\n",
       "      <th>75%</th>\n",
       "      <td>5.000000</td>\n",
       "      <td>1.388189e+09</td>\n",
       "    </tr>\n",
       "    <tr>\n",
       "      <th>max</th>\n",
       "      <td>5.000000</td>\n",
       "      <td>1.406074e+09</td>\n",
       "    </tr>\n",
       "  </tbody>\n",
       "</table>\n",
       "</div>"
      ],
      "text/plain": [
       "              RATING  REVIEW TIMESTAMP\n",
       "count  500176.000000      5.001760e+05\n",
       "mean        4.244350      1.344561e+09\n",
       "std         1.203374      6.487853e+07\n",
       "min         1.000000      8.934624e+08\n",
       "25%         4.000000      1.325030e+09\n",
       "50%         5.000000      1.364342e+09\n",
       "75%         5.000000      1.388189e+09\n",
       "max         5.000000      1.406074e+09"
      ]
     },
     "execution_count": 7,
     "metadata": {},
     "output_type": "execute_result"
    }
   ],
   "source": [
    "#Use describe to obtain a summary of data in each numerical (float and int) data column\n",
    "df.describe()"
   ]
  },
  {
   "cell_type": "code",
   "execution_count": 8,
   "metadata": {},
   "outputs": [
    {
     "data": {
      "text/html": [
       "<div>\n",
       "<style scoped>\n",
       "    .dataframe tbody tr th:only-of-type {\n",
       "        vertical-align: middle;\n",
       "    }\n",
       "\n",
       "    .dataframe tbody tr th {\n",
       "        vertical-align: top;\n",
       "    }\n",
       "\n",
       "    .dataframe thead th {\n",
       "        text-align: right;\n",
       "    }\n",
       "</style>\n",
       "<table border=\"1\" class=\"dataframe\">\n",
       "  <thead>\n",
       "    <tr style=\"text-align: right;\">\n",
       "      <th></th>\n",
       "      <th>RATING</th>\n",
       "      <th>RATING PERCENTAGE</th>\n",
       "    </tr>\n",
       "  </thead>\n",
       "  <tbody>\n",
       "    <tr>\n",
       "      <th>0</th>\n",
       "      <td>5.0</td>\n",
       "      <td>62.134929</td>\n",
       "    </tr>\n",
       "    <tr>\n",
       "      <th>1</th>\n",
       "      <td>4.0</td>\n",
       "      <td>18.654634</td>\n",
       "    </tr>\n",
       "    <tr>\n",
       "      <th>2</th>\n",
       "      <td>3.0</td>\n",
       "      <td>7.704688</td>\n",
       "    </tr>\n",
       "    <tr>\n",
       "      <th>3</th>\n",
       "      <td>1.0</td>\n",
       "      <td>6.983742</td>\n",
       "    </tr>\n",
       "    <tr>\n",
       "      <th>4</th>\n",
       "      <td>2.0</td>\n",
       "      <td>4.522008</td>\n",
       "    </tr>\n",
       "  </tbody>\n",
       "</table>\n",
       "</div>"
      ],
      "text/plain": [
       "   RATING  RATING PERCENTAGE\n",
       "0     5.0          62.134929\n",
       "1     4.0          18.654634\n",
       "2     3.0           7.704688\n",
       "3     1.0           6.983742\n",
       "4     2.0           4.522008"
      ]
     },
     "execution_count": 8,
     "metadata": {},
     "output_type": "execute_result"
    }
   ],
   "source": [
    "#For each rating of 1 to 5, find the percentage distribution\n",
    "check = pd.DataFrame((df.RATING.value_counts()/len(df.RATING))*100)\n",
    "check = check.reset_index()\n",
    "check.columns = ['RATING', 'RATING PERCENTAGE']\n",
    "check"
   ]
  },
  {
   "cell_type": "code",
   "execution_count": 10,
   "metadata": {
    "scrolled": true
   },
   "outputs": [
    {
     "data": {
      "text/plain": [
       "Text(0, 0.5, 'PERCENTAGE OF RATINGS')"
      ]
     },
     "execution_count": 10,
     "metadata": {},
     "output_type": "execute_result"
    },
    {
     "data": {
      "image/png": "[encoded data removed]",
      "text/plain": [
       "<Figure size 432x288 with 1 Axes>"
      ]
     },
     "metadata": {
      "needs_background": "light"
     },
     "output_type": "display_data"
    }
   ],
   "source": [
    "#Plot the percentage distribution of each rating using Matplotlib\n",
    "plt.bar(check['RATING'], check['RATING PERCENTAGE'])\n",
    "plt.xlabel('RATINGS')\n",
    "plt.ylabel('PERCENTAGE OF RATINGS')"
   ]
  },
  {
   "cell_type": "code",
   "execution_count": 11,
   "metadata": {},
   "outputs": [
    {
     "data": {
      "text/plain": [
       "83046"
      ]
     },
     "execution_count": 11,
     "metadata": {},
     "output_type": "execute_result"
    }
   ],
   "source": [
    "#Calculate the number of unique products\n",
    "noofproduct = len(df.PRODUCT.unique())\n",
    "noofproduct"
   ]
  },
  {
   "cell_type": "code",
   "execution_count": 12,
   "metadata": {},
   "outputs": [
    {
     "data": {
      "text/plain": [
       "339231"
      ]
     },
     "execution_count": 12,
     "metadata": {},
     "output_type": "execute_result"
    }
   ],
   "source": [
    "#Calculate the number of unique reviewers\n",
    "noofreviewer = len(df.REVIEWER.unique())\n",
    "noofreviewer"
   ]
  },
  {
   "cell_type": "code",
   "execution_count": 13,
   "metadata": {},
   "outputs": [
    {
     "data": {
      "text/plain": [
       "500176"
      ]
     },
     "execution_count": 13,
     "metadata": {},
     "output_type": "execute_result"
    }
   ],
   "source": [
    "#Calculate the total number of ratings by all users\n",
    "noofratings = len(df.RATING)\n",
    "noofratings"
   ]
  },
  {
   "cell_type": "code",
   "execution_count": 14,
   "metadata": {},
   "outputs": [
    {
     "data": {
      "text/plain": [
       "0.0017754506181334572"
      ]
     },
     "execution_count": 14,
     "metadata": {},
     "output_type": "execute_result"
    }
   ],
   "source": [
    "#Calculate Sparsity i.e. how empty the dataset is\n",
    "#Sparsity = <Number of Ratings in the Dataset> / (Number of Products x Number of Users) * 100%\n",
    "sparsity = ((noofratings)/(noofproduct*noofreviewer))*100\n",
    "sparsity"
   ]
  },
  {
   "cell_type": "code",
   "execution_count": 15,
   "metadata": {},
   "outputs": [
    {
     "data": {
      "text/html": [
       "<div>\n",
       "<style scoped>\n",
       "    .dataframe tbody tr th:only-of-type {\n",
       "        vertical-align: middle;\n",
       "    }\n",
       "\n",
       "    .dataframe tbody tr th {\n",
       "        vertical-align: top;\n",
       "    }\n",
       "\n",
       "    .dataframe thead th {\n",
       "        text-align: right;\n",
       "    }\n",
       "</style>\n",
       "<table border=\"1\" class=\"dataframe\">\n",
       "  <thead>\n",
       "    <tr style=\"text-align: right;\">\n",
       "      <th></th>\n",
       "      <th>REVIEWER</th>\n",
       "      <th>NO. OF REVIEWS BY USER</th>\n",
       "    </tr>\n",
       "  </thead>\n",
       "  <tbody>\n",
       "    <tr>\n",
       "      <th>0</th>\n",
       "      <td>A2PAD826IH1HFE</td>\n",
       "      <td>483</td>\n",
       "    </tr>\n",
       "    <tr>\n",
       "      <th>1</th>\n",
       "      <td>A2AIMXT9PLAM12</td>\n",
       "      <td>463</td>\n",
       "    </tr>\n",
       "    <tr>\n",
       "      <th>2</th>\n",
       "      <td>A2NYK9KWFMJV4Y</td>\n",
       "      <td>454</td>\n",
       "    </tr>\n",
       "    <tr>\n",
       "      <th>3</th>\n",
       "      <td>A33GGROUQRQZS</td>\n",
       "      <td>154</td>\n",
       "    </tr>\n",
       "    <tr>\n",
       "      <th>4</th>\n",
       "      <td>A2PR6NXG0PA3KY</td>\n",
       "      <td>135</td>\n",
       "    </tr>\n",
       "  </tbody>\n",
       "</table>\n",
       "</div>"
      ],
      "text/plain": [
       "         REVIEWER  NO. OF REVIEWS BY USER\n",
       "0  A2PAD826IH1HFE                     483\n",
       "1  A2AIMXT9PLAM12                     463\n",
       "2  A2NYK9KWFMJV4Y                     454\n",
       "3   A33GGROUQRQZS                     154\n",
       "4  A2PR6NXG0PA3KY                     135"
      ]
     },
     "execution_count": 15,
     "metadata": {},
     "output_type": "execute_result"
    }
   ],
   "source": [
    "#Create a dataframe of the number of reviews each user has given\n",
    "ratingsperreviewer = pd.DataFrame(df.groupby('REVIEWER')['RATING'].count()).sort_values(by='RATING', ascending=False)\n",
    "ratingsperreviewer = ratingsperreviewer.reset_index()\n",
    "ratingsperreviewer.columns = ['REVIEWER','NO. OF REVIEWS BY USER']\n",
    "ratingsperreviewer.head(5)\n"
   ]
  },
  {
   "cell_type": "code",
   "execution_count": 19,
   "metadata": {},
   "outputs": [
    {
     "data": {
      "text/plain": [
       "Text(0.5, 1.0, 'DISTRIBUTION OF REVIEWS TOP 50 USERS')"
      ]
     },
     "execution_count": 19,
     "metadata": {},
     "output_type": "execute_result"
    },
    {
     "data": {
      "image/png": "[encoded data removed]",
      "text/plain": [
       "<Figure size 1440x720 with 1 Axes>"
      ]
     },
     "metadata": {
      "needs_background": "light"
     },
     "output_type": "display_data"
    }
   ],
   "source": [
    "#Plot the distribution of the top 50 highest reviewers\n",
    "ratingsperreviewer50=ratingsperreviewer.iloc[0:50,:]\n",
    "plt.figure(figsize=(20,10))\n",
    "plt.bar(ratingsperreviewer50['REVIEWER'], ratingsperreviewer50['NO. OF REVIEWS BY USER'])\n",
    "plt.xlabel('REVIEWER')\n",
    "plt.ylabel('NO. OF REVIEWS')\n",
    "plt.xticks(rotation='vertical')\n",
    "plt.title('DISTRIBUTION OF REVIEWS TOP 50 USERS')\n"
   ]
  },
  {
   "cell_type": "code",
   "execution_count": 20,
   "metadata": {},
   "outputs": [
    {
     "data": {
      "text/html": [
       "<div>\n",
       "<style scoped>\n",
       "    .dataframe tbody tr th:only-of-type {\n",
       "        vertical-align: middle;\n",
       "    }\n",
       "\n",
       "    .dataframe tbody tr th {\n",
       "        vertical-align: top;\n",
       "    }\n",
       "\n",
       "    .dataframe thead th {\n",
       "        text-align: right;\n",
       "    }\n",
       "</style>\n",
       "<table border=\"1\" class=\"dataframe\">\n",
       "  <thead>\n",
       "    <tr style=\"text-align: right;\">\n",
       "      <th></th>\n",
       "      <th>PRODUCT</th>\n",
       "      <th>NO. OF REVIEWS FOR PRODUCT</th>\n",
       "    </tr>\n",
       "  </thead>\n",
       "  <tbody>\n",
       "    <tr>\n",
       "      <th>0</th>\n",
       "      <td>B000ULAP4U</td>\n",
       "      <td>3523</td>\n",
       "    </tr>\n",
       "    <tr>\n",
       "      <th>1</th>\n",
       "      <td>B003VWJ2K8</td>\n",
       "      <td>2275</td>\n",
       "    </tr>\n",
       "    <tr>\n",
       "      <th>2</th>\n",
       "      <td>B003VWKPHC</td>\n",
       "      <td>1603</td>\n",
       "    </tr>\n",
       "    <tr>\n",
       "      <th>3</th>\n",
       "      <td>B001MSS6CS</td>\n",
       "      <td>1420</td>\n",
       "    </tr>\n",
       "    <tr>\n",
       "      <th>4</th>\n",
       "      <td>B00FPPQYXM</td>\n",
       "      <td>1287</td>\n",
       "    </tr>\n",
       "  </tbody>\n",
       "</table>\n",
       "</div>"
      ],
      "text/plain": [
       "      PRODUCT  NO. OF REVIEWS FOR PRODUCT\n",
       "0  B000ULAP4U                        3523\n",
       "1  B003VWJ2K8                        2275\n",
       "2  B003VWKPHC                        1603\n",
       "3  B001MSS6CS                        1420\n",
       "4  B00FPPQYXM                        1287"
      ]
     },
     "execution_count": 20,
     "metadata": {},
     "output_type": "execute_result"
    }
   ],
   "source": [
    "#Create a dataframe of the number of reviews each product has received\n",
    "ratingsperitem = pd.DataFrame(df.groupby('PRODUCT')['RATING'].count()).sort_values(by='RATING', ascending=False)\n",
    "ratingsperitem = ratingsperitem.reset_index()\n",
    "ratingsperitem.columns = ['PRODUCT','NO. OF REVIEWS FOR PRODUCT']\n",
    "ratingsperitem.head(5)\n",
    "\n"
   ]
  },
  {
   "cell_type": "code",
   "execution_count": 21,
   "metadata": {},
   "outputs": [
    {
     "data": {
      "text/plain": [
       "Text(0.5, 1.0, 'DISTRIBUTION OF REVIEWS TOP 50 ITEMS')"
      ]
     },
     "execution_count": 21,
     "metadata": {},
     "output_type": "execute_result"
    },
    {
     "data": {
      "image/png": "[encoded data removed]",
      "text/plain": [
       "<Figure size 1440x720 with 1 Axes>"
      ]
     },
     "metadata": {
      "needs_background": "light"
     },
     "output_type": "display_data"
    }
   ],
   "source": [
    "#Plot the distribution of the top 50 products with the most reviews\n",
    "ratingsperitem50=ratingsperitem.iloc[0:50,:]\n",
    "plt.figure(figsize=(20,10))\n",
    "plt.bar(ratingsperitem50['PRODUCT'], ratingsperitem50['NO. OF REVIEWS FOR PRODUCT'])\n",
    "plt.xlabel('ITEM')\n",
    "plt.ylabel('NO. OF RATINGS')\n",
    "plt.xticks(rotation='vertical')\n",
    "plt.title('DISTRIBUTION OF REVIEWS TOP 50 ITEMS')"
   ]
  },
  {
   "cell_type": "code",
   "execution_count": 24,
   "metadata": {},
   "outputs": [
    {
     "name": "stdout",
     "output_type": "stream",
     "text": [
      "The original data frame shape:\t(500176, 4)\n",
      "The new data frame shape:\t(58, 4)\n"
     ]
    }
   ],
   "source": [
    "#Create a new dataframe that merges both the top 50 highest reviewed products and top 50 users with the most reviews\n",
    "subset = df[(df['PRODUCT'].isin(ratingsperitem50['PRODUCT'])) & (df['REVIEWER'].isin(ratingsperreviewer50['REVIEWER']))]\n",
    "print('The original data frame shape:\\t{}'.format(df.shape))\n",
    "print('The new data frame shape:\\t{}'.format(subset.shape))"
   ]
  },
  {
   "cell_type": "code",
   "execution_count": 33,
   "metadata": {},
   "outputs": [
    {
     "name": "stdout",
     "output_type": "stream",
     "text": [
      "The original data frame shape:\t(500175, 4)\n",
      "The new data frame shape:\t(496, 4)\n"
     ]
    }
   ],
   "source": [
    "#Create a new dataframe that merges both the top 50 highest reviewed products and top 50 users with the most reviews\n",
    "#cutoff = 50\n",
    "#subsetproduct = df['PRODUCT'].value_counts() > cutoff\n",
    "#subsetproduct = subsetproduct[subsetproduct].index.tolist()\n",
    "\n",
    "#subsetuser = df['REVIEWER'].value_counts() > cutoff\n",
    "#subsetuser = subsetuser[subsetuser].index.tolist()\n",
    "\n",
    "#subset = df[(df['PRODUCT'].isin(subsetproduct)) & (df['REVIEWER'].isin(subsetuser))]\n",
    "#print('The original data frame shape:\\t{}'.format(df.shape))\n",
    "#print('The new data frame shape:\\t{}'.format(subset.shape))"
   ]
  },
  {
   "cell_type": "code",
   "execution_count": 25,
   "metadata": {},
   "outputs": [
    {
     "data": {
      "text/html": [
       "<div>\n",
       "<style scoped>\n",
       "    .dataframe tbody tr th:only-of-type {\n",
       "        vertical-align: middle;\n",
       "    }\n",
       "\n",
       "    .dataframe tbody tr th {\n",
       "        vertical-align: top;\n",
       "    }\n",
       "\n",
       "    .dataframe thead th {\n",
       "        text-align: right;\n",
       "    }\n",
       "</style>\n",
       "<table border=\"1\" class=\"dataframe\">\n",
       "  <thead>\n",
       "    <tr style=\"text-align: right;\">\n",
       "      <th></th>\n",
       "      <th>REVIEWER</th>\n",
       "      <th>PRODUCT</th>\n",
       "      <th>RATING</th>\n",
       "      <th>REVIEW TIMESTAMP</th>\n",
       "    </tr>\n",
       "  </thead>\n",
       "  <tbody>\n",
       "    <tr>\n",
       "      <th>1181</th>\n",
       "      <td>A328S9RN3U5M68</td>\n",
       "      <td>1417030321</td>\n",
       "      <td>5.0</td>\n",
       "      <td>1134777600</td>\n",
       "    </tr>\n",
       "    <tr>\n",
       "      <th>1207</th>\n",
       "      <td>A16CZRQL23NOIW</td>\n",
       "      <td>1417030321</td>\n",
       "      <td>4.0</td>\n",
       "      <td>1144368000</td>\n",
       "    </tr>\n",
       "    <tr>\n",
       "      <th>9206</th>\n",
       "      <td>A2U49LUUY4IKQQ</td>\n",
       "      <td>B00004XQ83</td>\n",
       "      <td>5.0</td>\n",
       "      <td>1119830400</td>\n",
       "    </tr>\n",
       "    <tr>\n",
       "      <th>30865</th>\n",
       "      <td>A1L7M2JXN4EZCR</td>\n",
       "      <td>B0002CZW0Y</td>\n",
       "      <td>5.0</td>\n",
       "      <td>1380758400</td>\n",
       "    </tr>\n",
       "    <tr>\n",
       "      <th>43241</th>\n",
       "      <td>A1MVH1WLYDHZ49</td>\n",
       "      <td>B0002E1G5C</td>\n",
       "      <td>4.0</td>\n",
       "      <td>1377820800</td>\n",
       "    </tr>\n",
       "    <tr>\n",
       "      <th>43322</th>\n",
       "      <td>A15TYOEWBQYF0X</td>\n",
       "      <td>B0002E1G5C</td>\n",
       "      <td>5.0</td>\n",
       "      <td>1389830400</td>\n",
       "    </tr>\n",
       "    <tr>\n",
       "      <th>43832</th>\n",
       "      <td>ALHC64J88LVWO</td>\n",
       "      <td>B0002E1G5C</td>\n",
       "      <td>4.0</td>\n",
       "      <td>1385337600</td>\n",
       "    </tr>\n",
       "    <tr>\n",
       "      <th>47725</th>\n",
       "      <td>AJK15Q9JOEHRH</td>\n",
       "      <td>B0002E2KPC</td>\n",
       "      <td>5.0</td>\n",
       "      <td>1292284800</td>\n",
       "    </tr>\n",
       "    <tr>\n",
       "      <th>47806</th>\n",
       "      <td>A1MVH1WLYDHZ49</td>\n",
       "      <td>B0002E2KPC</td>\n",
       "      <td>4.0</td>\n",
       "      <td>1377820800</td>\n",
       "    </tr>\n",
       "    <tr>\n",
       "      <th>47864</th>\n",
       "      <td>A15TYOEWBQYF0X</td>\n",
       "      <td>B0002E2KPC</td>\n",
       "      <td>5.0</td>\n",
       "      <td>1391385600</td>\n",
       "    </tr>\n",
       "    <tr>\n",
       "      <th>59937</th>\n",
       "      <td>A1L7M2JXN4EZCR</td>\n",
       "      <td>B0002F58TG</td>\n",
       "      <td>5.0</td>\n",
       "      <td>1380844800</td>\n",
       "    </tr>\n",
       "    <tr>\n",
       "      <th>67005</th>\n",
       "      <td>AJCHGS1GND4OA</td>\n",
       "      <td>B0002F7K7Y</td>\n",
       "      <td>5.0</td>\n",
       "      <td>1361836800</td>\n",
       "    </tr>\n",
       "    <tr>\n",
       "      <th>67075</th>\n",
       "      <td>A1LQC225SE8UNI</td>\n",
       "      <td>B0002F7K7Y</td>\n",
       "      <td>5.0</td>\n",
       "      <td>1331164800</td>\n",
       "    </tr>\n",
       "    <tr>\n",
       "      <th>67082</th>\n",
       "      <td>A15TYOEWBQYF0X</td>\n",
       "      <td>B0002F7K7Y</td>\n",
       "      <td>3.0</td>\n",
       "      <td>1393977600</td>\n",
       "    </tr>\n",
       "    <tr>\n",
       "      <th>67170</th>\n",
       "      <td>A1SD1C8XK3Z3V1</td>\n",
       "      <td>B0002F7K7Y</td>\n",
       "      <td>5.0</td>\n",
       "      <td>1335398400</td>\n",
       "    </tr>\n",
       "    <tr>\n",
       "      <th>67248</th>\n",
       "      <td>A1YP96MT6W9FTB</td>\n",
       "      <td>B0002F7K7Y</td>\n",
       "      <td>4.0</td>\n",
       "      <td>1332460800</td>\n",
       "    </tr>\n",
       "    <tr>\n",
       "      <th>67312</th>\n",
       "      <td>A1GMWTGXW682GB</td>\n",
       "      <td>B0002F7K7Y</td>\n",
       "      <td>4.0</td>\n",
       "      <td>1343865600</td>\n",
       "    </tr>\n",
       "    <tr>\n",
       "      <th>67319</th>\n",
       "      <td>A1RPTVW5VEOSI</td>\n",
       "      <td>B0002F7K7Y</td>\n",
       "      <td>5.0</td>\n",
       "      <td>1321228800</td>\n",
       "    </tr>\n",
       "    <tr>\n",
       "      <th>67421</th>\n",
       "      <td>AKYDGCKCY7H9F</td>\n",
       "      <td>B0002F7K7Y</td>\n",
       "      <td>5.0</td>\n",
       "      <td>1341619200</td>\n",
       "    </tr>\n",
       "    <tr>\n",
       "      <th>71872</th>\n",
       "      <td>A1L7M2JXN4EZCR</td>\n",
       "      <td>B0002GLCRC</td>\n",
       "      <td>5.0</td>\n",
       "      <td>1386720000</td>\n",
       "    </tr>\n",
       "  </tbody>\n",
       "</table>\n",
       "</div>"
      ],
      "text/plain": [
       "             REVIEWER     PRODUCT  RATING  REVIEW TIMESTAMP\n",
       "1181   A328S9RN3U5M68  1417030321     5.0        1134777600\n",
       "1207   A16CZRQL23NOIW  1417030321     4.0        1144368000\n",
       "9206   A2U49LUUY4IKQQ  B00004XQ83     5.0        1119830400\n",
       "30865  A1L7M2JXN4EZCR  B0002CZW0Y     5.0        1380758400\n",
       "43241  A1MVH1WLYDHZ49  B0002E1G5C     4.0        1377820800\n",
       "43322  A15TYOEWBQYF0X  B0002E1G5C     5.0        1389830400\n",
       "43832   ALHC64J88LVWO  B0002E1G5C     4.0        1385337600\n",
       "47725   AJK15Q9JOEHRH  B0002E2KPC     5.0        1292284800\n",
       "47806  A1MVH1WLYDHZ49  B0002E2KPC     4.0        1377820800\n",
       "47864  A15TYOEWBQYF0X  B0002E2KPC     5.0        1391385600\n",
       "59937  A1L7M2JXN4EZCR  B0002F58TG     5.0        1380844800\n",
       "67005   AJCHGS1GND4OA  B0002F7K7Y     5.0        1361836800\n",
       "67075  A1LQC225SE8UNI  B0002F7K7Y     5.0        1331164800\n",
       "67082  A15TYOEWBQYF0X  B0002F7K7Y     3.0        1393977600\n",
       "67170  A1SD1C8XK3Z3V1  B0002F7K7Y     5.0        1335398400\n",
       "67248  A1YP96MT6W9FTB  B0002F7K7Y     4.0        1332460800\n",
       "67312  A1GMWTGXW682GB  B0002F7K7Y     4.0        1343865600\n",
       "67319   A1RPTVW5VEOSI  B0002F7K7Y     5.0        1321228800\n",
       "67421   AKYDGCKCY7H9F  B0002F7K7Y     5.0        1341619200\n",
       "71872  A1L7M2JXN4EZCR  B0002GLCRC     5.0        1386720000"
      ]
     },
     "execution_count": 25,
     "metadata": {},
     "output_type": "execute_result"
    }
   ],
   "source": [
    "#View the new dataframe\n",
    "subset.head(20)"
   ]
  },
  {
   "cell_type": "code",
   "execution_count": 26,
   "metadata": {},
   "outputs": [],
   "source": [
    "#Read the data into Surprise for predictions\n",
    "reader = Reader(rating_scale=(1, 5))\n",
    "\n",
    "data = Dataset.load_from_df(subset[['REVIEWER', 'PRODUCT', 'RATING']], reader)"
   ]
  },
  {
   "cell_type": "code",
   "execution_count": 27,
   "metadata": {},
   "outputs": [
    {
     "name": "stdout",
     "output_type": "stream",
     "text": [
      "Estimating biases using als...\n",
      "Estimating biases using als...\n",
      "Estimating biases using als...\n",
      "Computing the msd similarity matrix...\n",
      "Done computing similarity matrix.\n",
      "Computing the msd similarity matrix...\n",
      "Done computing similarity matrix.\n",
      "Computing the msd similarity matrix...\n",
      "Done computing similarity matrix.\n",
      "Computing the msd similarity matrix...\n",
      "Done computing similarity matrix.\n",
      "Computing the msd similarity matrix...\n",
      "Done computing similarity matrix.\n",
      "Computing the msd similarity matrix...\n",
      "Done computing similarity matrix.\n"
     ]
    },
    {
     "data": {
      "text/html": [
       "<div>\n",
       "<style scoped>\n",
       "    .dataframe tbody tr th:only-of-type {\n",
       "        vertical-align: middle;\n",
       "    }\n",
       "\n",
       "    .dataframe tbody tr th {\n",
       "        vertical-align: top;\n",
       "    }\n",
       "\n",
       "    .dataframe thead th {\n",
       "        text-align: right;\n",
       "    }\n",
       "</style>\n",
       "<table border=\"1\" class=\"dataframe\">\n",
       "  <thead>\n",
       "    <tr style=\"text-align: right;\">\n",
       "      <th></th>\n",
       "      <th>test_rmse</th>\n",
       "      <th>fit_time</th>\n",
       "      <th>test_time</th>\n",
       "    </tr>\n",
       "    <tr>\n",
       "      <th>Algorithm</th>\n",
       "      <th></th>\n",
       "      <th></th>\n",
       "      <th></th>\n",
       "    </tr>\n",
       "  </thead>\n",
       "  <tbody>\n",
       "    <tr>\n",
       "      <th>SVD</th>\n",
       "      <td>0.791140</td>\n",
       "      <td>0.008438</td>\n",
       "      <td>0.001488</td>\n",
       "    </tr>\n",
       "    <tr>\n",
       "      <th>BaselineOnly</th>\n",
       "      <td>0.814315</td>\n",
       "      <td>0.000000</td>\n",
       "      <td>0.000333</td>\n",
       "    </tr>\n",
       "    <tr>\n",
       "      <th>KNNWithMeans</th>\n",
       "      <td>0.929449</td>\n",
       "      <td>0.000339</td>\n",
       "      <td>0.000662</td>\n",
       "    </tr>\n",
       "    <tr>\n",
       "      <th>KNNBasic</th>\n",
       "      <td>1.007981</td>\n",
       "      <td>0.000666</td>\n",
       "      <td>0.000000</td>\n",
       "    </tr>\n",
       "    <tr>\n",
       "      <th>NormalPredictor</th>\n",
       "      <td>1.088764</td>\n",
       "      <td>0.000000</td>\n",
       "      <td>0.000333</td>\n",
       "    </tr>\n",
       "    <tr>\n",
       "      <th>NMF</th>\n",
       "      <td>1.195307</td>\n",
       "      <td>0.006658</td>\n",
       "      <td>0.000000</td>\n",
       "    </tr>\n",
       "  </tbody>\n",
       "</table>\n",
       "</div>"
      ],
      "text/plain": [
       "                 test_rmse  fit_time  test_time\n",
       "Algorithm                                      \n",
       "SVD               0.791140  0.008438   0.001488\n",
       "BaselineOnly      0.814315  0.000000   0.000333\n",
       "KNNWithMeans      0.929449  0.000339   0.000662\n",
       "KNNBasic          1.007981  0.000666   0.000000\n",
       "NormalPredictor   1.088764  0.000000   0.000333\n",
       "NMF               1.195307  0.006658   0.000000"
      ]
     },
     "execution_count": 27,
     "metadata": {},
     "output_type": "execute_result"
    }
   ],
   "source": [
    "#This step creates a list of selected prediction algorithms from the Surprise package\n",
    "#and tests each one to see which has the lowest RMSE which will then be used for making predictions\n",
    "benchmark = []\n",
    "# Iterate over all algorithms\n",
    "for algorithm in [SVD(), NormalPredictor(), BaselineOnly(), KNNWithMeans(), NMF(), KNNBasic()]:\n",
    "    # Perform cross validation\n",
    "    results = cross_validate(algorithm, data, measures=['RMSE'], cv=3, verbose=False)\n",
    "    \n",
    "    # Get results & append algorithm name\n",
    "    tmp = pd.DataFrame.from_dict(results).mean(axis=0)\n",
    "    tmp = tmp.append(pd.Series([str(algorithm).split(' ')[0].split('.')[-1]], index=['Algorithm']))\n",
    "    benchmark.append(tmp)\n",
    "    \n",
    "pd.DataFrame(benchmark).set_index('Algorithm').sort_values('test_rmse')  "
   ]
  },
  {
   "cell_type": "code",
   "execution_count": 28,
   "metadata": {},
   "outputs": [
    {
     "name": "stdout",
     "output_type": "stream",
     "text": [
      "Estimating biases using als...\n",
      "Estimating biases using als...\n",
      "Estimating biases using als...\n"
     ]
    },
    {
     "data": {
      "text/plain": [
       "{'test_rmse': array([1.32346848, 0.6258395 , 0.62579526]),\n",
       " 'fit_time': (0.0, 0.0010042190551757812, 0.0),\n",
       " 'test_time': (0.0, 0.0, 0.0)}"
      ]
     },
     "execution_count": 28,
     "metadata": {},
     "output_type": "execute_result"
    }
   ],
   "source": [
    "#Define the parameters for the BaselineOnly prediction algorithm\n",
    "# Bsl selected as it has a very low fit time, slightly higher rmse than SVD but lower rmse than Normal Predictor\n",
    "bsl_options = {'method': 'als',\n",
    "               'n_epochs': 5,\n",
    "               'reg_u': 12,\n",
    "               'reg_i': 5\n",
    "               }\n",
    "algo = BaselineOnly(bsl_options=bsl_options)\n",
    "cross_validate(algo, data, measures=['RMSE'], cv=3, verbose=False)"
   ]
  },
  {
   "cell_type": "code",
   "execution_count": 29,
   "metadata": {},
   "outputs": [
    {
     "name": "stdout",
     "output_type": "stream",
     "text": [
      "user: A6FIAB28IS79 item: B000068NW5 r_ui = 5.00   est = 4.30   {'was_impossible': False}\n"
     ]
    }
   ],
   "source": [
    "#Make a prediction with the selected algorithm, uid is REVIEWER, iid is PRODUCT\n",
    "uid = str('A6FIAB28IS79')  \n",
    "iid = str('B000068NW5')  \n",
    "\n",
    "# get a prediction for specific users and items.\n",
    "pred = algo.predict(uid, iid, r_ui=5, verbose=True)"
   ]
  },
  {
   "cell_type": "code",
   "execution_count": 31,
   "metadata": {},
   "outputs": [],
   "source": [
    "#REFERENCE DOCUMENTS\n",
    "#https://realpython.com/build-recommendation-engine-collaborative-filtering/\n",
    "#https://surprise.readthedocs.io/en/stable/getting_started.html\n",
    "#https://pandas.pydata.org/pandas-docs/stable/user_guide/merging.html#database-style-dataframe-or-named-series-joining-merging\n",
    "#https://towardsdatascience.com/building-and-testing-recommender-systems-with-surprise-step-by-step-d4ba702ef80b"
   ]
  }
 ],
 "metadata": {
  "kernelspec": {
   "display_name": "Python 3",
   "language": "python",
   "name": "python3"
  },
  "language_info": {
   "codemirror_mode": {
    "name": "ipython",
    "version": 3
   },
   "file_extension": ".py",
   "mimetype": "text/x-python",
   "name": "python",
   "nbconvert_exporter": "python",
   "pygments_lexer": "ipython3",
   "version": "3.8.5"
  }
 },
 "nbformat": 4,
 "nbformat_minor": 2
}
